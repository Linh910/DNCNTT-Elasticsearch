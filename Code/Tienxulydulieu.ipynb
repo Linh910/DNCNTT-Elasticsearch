{
 "cells": [
  {
   "cell_type": "code",
   "execution_count": null,
   "id": "a4664524",
   "metadata": {},
   "outputs": [],
   "source": [
    "import json\n",
    "\n",
    "# Đường dẫn đến file JSON\n",
    "json_path = 'dataset_full.json'\n",
    "\n",
    "# Đọc dữ liệu từ file JSON\n",
    "with open(json_path, 'r', encoding='utf-8') as file:\n",
    "    data_json = json.load(file)\n",
    "\n",
    "data_json[:2]\n"
   ]
  },
  {
   "cell_type": "code",
   "execution_count": null,
   "id": "7d65bddc",
   "metadata": {},
   "outputs": [],
   "source": [
    "import re\n",
    "\n",
    "# Hàm tiền xử lý văn bản\n",
    "def preprocess_text(text):\n",
    "    text = str(text).lower()  # Chuyển văn bản thành chữ thường\n",
    "    text = re.sub(r'\\W', ' ', text)  # Loại bỏ các ký tự không phải từ\n",
    "    text = re.sub(r'\\s+', ' ', text)  # Loại bỏ khoảng trắng thừa\n",
    "    return text.strip()\n",
    "\n",
    "# Áp dụng hàm tiền xử lý cho 'text' và 'title' trong mỗi bản ghi\n",
    "for item in data_json:\n",
    "    item['text_processed'] = preprocess_text(item.get('text', ''))\n",
    "    item['title_processed'] = preprocess_text(item.get('title', ''))\n",
    "\n",
    "# Kiểm tra lại dữ liệu sau khi đã tiền xử lý\n",
    "data_json[:2]  \n"
   ]
  }
 ],
 "metadata": {
  "kernelspec": {
   "display_name": "Python 3 (ipykernel)",
   "language": "python",
   "name": "python3"
  },
  "language_info": {
   "codemirror_mode": {
    "name": "ipython",
    "version": 3
   },
   "file_extension": ".py",
   "mimetype": "text/x-python",
   "name": "python",
   "nbconvert_exporter": "python",
   "pygments_lexer": "ipython3",
   "version": "3.11.4"
  }
 },
 "nbformat": 4,
 "nbformat_minor": 5
}
